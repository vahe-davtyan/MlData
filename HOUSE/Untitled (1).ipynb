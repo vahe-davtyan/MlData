{
 "cells": [
  {
   "cell_type": "code",
   "execution_count": 1,
   "id": "7e15a556-4504-441a-9e94-708533a681e3",
   "metadata": {},
   "outputs": [],
   "source": [
    "import numpy as np\n",
    "import pandas as pd\n",
    "import seaborn as sns\n",
    "import matplotlib.pyplot as plt"
   ]
  },
  {
   "cell_type": "code",
   "execution_count": 2,
   "id": "84599b33-f043-4944-bf50-95591e37e540",
   "metadata": {},
   "outputs": [],
   "source": [
    "df_train = pd.read_csv('train.csv')\n",
    "df_test = pd.read_csv('test.csv')"
   ]
  },
  {
   "cell_type": "code",
   "execution_count": 3,
   "id": "27ed2719-0857-4b88-89a7-811540eff155",
   "metadata": {},
   "outputs": [],
   "source": [
    "df_train"
   ]
  },
  {
   "cell_type": "code",
   "execution_count": 4,
   "id": "1b51983d-a0a7-49f5-b42e-a45395c368a3",
   "metadata": {},
   "outputs": [],
   "source": [
    "df_train = df_train.drop('Alley', axis=1)\n",
    "df_test = df_test.drop('Alley', axis=1)"
   ]
  },
  {
   "cell_type": "code",
   "execution_count": 5,
   "id": "a058ff5a-88d0-45d1-86fa-9997f2543e3f",
   "metadata": {},
   "outputs": [],
   "source": [
    "df_train = df_train.drop('PoolQC', axis= 1)\n",
    "df_test = df_test.drop('PoolQC', axis=1)"
   ]
  },
  {
   "cell_type": "code",
   "execution_count": 6,
   "id": "15eaf2d8-853f-4f40-8da3-9999d8af2b6a",
   "metadata": {},
   "outputs": [],
   "source": [
    "df_train = df_train.drop('Fence', axis=1)\n",
    "df_test = df_test.drop('Fence', axis=1)"
   ]
  },
  {
   "cell_type": "code",
   "execution_count": 7,
   "id": "e0a50f79-9c60-437f-b1a4-6af934fe90df",
   "metadata": {},
   "outputs": [],
   "source": [
    "df_train = df_train.drop('MiscFeature', axis=1)\n",
    "df_test = df_test.drop('MiscFeature', axis=1)"
   ]
  },
  {
   "cell_type": "code",
   "execution_count": 8,
   "id": "1caff790-cec0-4e8a-a6e4-faa89f7732e2",
   "metadata": {},
   "outputs": [],
   "source": [
    "df_train['LotFrontage'] = df_train['LotFrontage'].interpolate()\n",
    "df_test['LotFrontage'] = df_test['LotFrontage'].interpolate()"
   ]
  },
  {
   "cell_type": "code",
   "execution_count": 9,
   "id": "10cc1d19-4abc-425d-9ecd-ab5ea0e4c5e8",
   "metadata": {},
   "outputs": [],
   "source": [
    "count = 0\n",
    "for i in df_train:\n",
    "    print(i)"
   ]
  },
  {
   "cell_type": "code",
   "execution_count": 10,
   "id": "40595502-6932-4bae-8111-78cb4fb278e2",
   "metadata": {},
   "outputs": [],
   "source": [
    "df_train['ExterCond'].unique()"
   ]
  },
  {
   "cell_type": "code",
   "execution_count": 11,
   "id": "4fd257b5-5fd2-4ded-a339-914256cfdb01",
   "metadata": {},
   "outputs": [],
   "source": [
    "df_train['MSZoning'] = df_train['MSZoning'].replace(to_replace='RL', value=0)\n",
    "df_train['MSZoning'] = df_train['MSZoning'].replace(to_replace='RM', value=1)\n",
    "df_train['MSZoning'] = df_train['MSZoning'].replace(to_replace='C (all)', value=2)\n",
    "df_train['MSZoning'] = df_train['MSZoning'].replace(to_replace='FV', value=3)\n",
    "df_train['MSZoning'] = df_train['MSZoning'].replace(to_replace='RH', value=4)\n",
    "df_test['MSZoning'] = df_test['MSZoning'].replace(to_replace='RL', value=0)\n",
    "df_test['MSZoning'] = df_test['MSZoning'].replace(to_replace='RM', value=1)\n",
    "df_test['MSZoning'] = df_test['MSZoning'].replace(to_replace='C (all)', value=2)\n",
    "df_test['MSZoning'] = df_test['MSZoning'].replace(to_replace='FV', value=3)\n",
    "df_test['MSZoning'] = df_test['MSZoning'].replace(to_replace='RH', value=4)\n",
    "df_train['Street'] = df_train['Street'].replace(to_replace='Pave', value=0)\n",
    "df_train['Street'] = df_train['Street'].replace(to_replace='Grvl', value=1)\n",
    "df_test['Street'] = df_test['Street'].replace(to_replace='Pave', value=0)\n",
    "df_test['Street'] = df_test['Street'].replace(to_replace='Grvl', value=1)\n",
    "df_train['LotShape'] = df_train['LotShape'].replace(to_replace='Reg', value=0)\n",
    "df_train['LotShape'] = df_train['LotShape'].replace(to_replace='IR1', value=1)\n",
    "df_train['LotShape'] = df_train['LotShape'].replace(to_replace='IR2', value=2)\n",
    "df_train['LotShape'] = df_train['LotShape'].replace(to_replace='IR3', value=3)\n",
    "df_test['LotShape'] = df_test['LotShape'].replace(to_replace='Reg', value=0)\n",
    "df_test['LotShape'] = df_test['LotShape'].replace(to_replace='IR1', value=1)\n",
    "df_test['LotShape'] = df_test['LotShape'].replace(to_replace='IR2', value=2)\n",
    "df_test['LotShape'] = df_test['LotShape'].replace(to_replace='IR3', value=3)\n",
    "df_train['LandContour'] = df_train['LandContour'].replace(to_replace='Lvl', value=0)\n",
    "df_train['LandContour'] = df_train['LandContour'].replace(to_replace='Bnk', value=1)\n",
    "df_train['LandContour'] = df_train['LandContour'].replace(to_replace='Low', value=2)\n",
    "df_train['LandContour'] = df_train['LandContour'].replace(to_replace='HLS', value=3)\n",
    "df_test['LandContour'] = df_test['LandContour'].replace(to_replace='Lvl', value=0)\n",
    "df_test['LandContour'] = df_test['LandContour'].replace(to_replace='Bnk', value=1)\n",
    "df_test['LandContour'] = df_test['LandContour'].replace(to_replace='Low', value=2)\n",
    "df_test['LandContour'] = df_test['LotShape'].replace(to_replace='HLS', value=3)\n",
    "df_train['Utilities'] = df_train['Utilities'].replace(to_replace='AllPub', value=0)\n",
    "df_train['Utilities'] = df_train['Utilities'].replace(to_replace='NoSeWa', value=1)\n",
    "df_test['Utilities'] = df_test['Utilities'].replace(to_replace='AllPub', value=0)\n",
    "df_test['Utilities'] = df_test['Utilities'].replace(to_replace='NoSeWa', value=1)\n",
    "df_train['LotConfig'] = df_train['LotConfig'].replace(to_replace='Inside', value=0)\n",
    "df_train['LotConfig'] = df_train['LotConfig'].replace(to_replace='FR2', value=1)\n",
    "df_train['LotConfig'] = df_train['LotConfig'].replace(to_replace='Corner', value=2)\n",
    "df_train['LotConfig'] = df_train['LotConfig'].replace(to_replace='CulDSac', value=3)\n",
    "df_train['LotConfig'] = df_train['LotConfig'].replace(to_replace='FR3', value=4)\n",
    "df_test['LotConfig'] = df_test['LotConfig'].replace(to_replace='Inside', value=0)\n",
    "df_test['LotConfig'] = df_test['LotConfig'].replace(to_replace='FR2', value=1)\n",
    "df_test['LotConfig'] = df_test['LotConfig'].replace(to_replace='Corner', value=2)\n",
    "df_test['LotConfig'] = df_test['LotConfig'].replace(to_replace='CulDSac', value=3)\n",
    "df_test['LotConfig'] = df_test['LotConfig'].replace(to_replace='FR3', value=4)\n",
    "df_train['LandSlope'] = df_train['LandSlope'].replace(to_replace='Gtl', value=0)\n",
    "df_train['LandSlope'] = df_train['LandSlope'].replace(to_replace='Mod', value=1)\n",
    "df_train['LandSlope'] = df_train['LandSlope'].replace(to_replace='Sev', value=2)\n",
    "df_test['LandSlope'] = df_test['LandSlope'].replace(to_replace='Gtl', value=0)\n",
    "df_test['LandSlope'] = df_test['LandSlope'].replace(to_replace='Mod', value=1)\n",
    "df_test['LandSlope'] = df_test['LandSlope'].replace(to_replace='Sev', value=2)\n",
    "df_train['BldgType'] = df_train['BldgType'].replace(to_replace='1Fam', value=0)\n",
    "df_train['BldgType'] = df_train['BldgType'].replace(to_replace='2fmCon', value=1)\n",
    "df_train['BldgType'] = df_train['BldgType'].replace(to_replace='Duplex', value=2)\n",
    "df_train['BldgType'] = df_train['BldgType'].replace(to_replace='TwnhsE', value=3)\n",
    "df_train['BldgType'] = df_train['BldgType'].replace(to_replace='Twnhs', value=4)\n",
    "df_test['BldgType'] = df_test['BldgType'].replace(to_replace='1Fam', value=0)\n",
    "df_test['BldgType'] = df_test['BldgType'].replace(to_replace='2fmCon', value=1)\n",
    "df_test['BldgType'] = df_test['BldgType'].replace(to_replace='Duplex', value=2)\n",
    "df_test['BldgType'] = df_test['BldgType'].replace(to_replace='TwnhsE', value=3)\n",
    "df_test['BldgType'] = df_test['BldgType'].replace(to_replace='Twnhs', value=4)\n",
    "df_train['MasVnrType'] = df_train['MasVnrType'].replace(to_replace='BrkFace', value=0)\n",
    "df_train['MasVnrType'] = df_train['MasVnrType'].replace(to_replace='Stone', value=1)\n",
    "df_train['MasVnrType'] = df_train['MasVnrType'].replace(to_replace='BrkCmn', value=2)\n",
    "df_test['MasVnrType'] = df_test['MasVnrType'].replace(to_replace='BrkFace', value=0)\n",
    "df_test['MasVnrType'] = df_test['MasVnrType'].replace(to_replace='Stone', value=1)\n",
    "df_test['MasVnrType'] = df_test['MasVnrType'].replace(to_replace='BrkCmn', value=2)\n",
    "df_train['ExterQual'] = df_train['ExterQual'].replace(to_replace='Gd', value=0)\n",
    "df_train['ExterQual'] = df_train['ExterQual'].replace(to_replace='TA', value=1)\n",
    "df_train['ExterQual'] = df_train['ExterQual'].replace(to_replace='Ex', value=2)\n",
    "df_train['ExterQual'] = df_train['ExterQual'].replace(to_replace='Fa', value=3)\n",
    "df_test['ExterQual'] = df_test['ExterQual'].replace(to_replace='Gd', value=0)\n",
    "df_test['ExterQual'] = df_test['ExterQual'].replace(to_replace='TA', value=1)\n",
    "df_test['ExterQual'] = df_test['ExterQual'].replace(to_replace='Ex', value=2)\n",
    "df_test['ExterQual'] = df_test['ExterQual'].replace(to_replace='Fa', value=3)\n",
    "df_train['ExterCond'] = df_train['ExterCond'].replace(to_replace='TA', value=0)\n",
    "df_train['ExterCond'] = df_train['ExterCond'].replace(to_replace='Gd', value=1)\n",
    "df_train['ExterCond'] = df_train['ExterCond'].replace(to_replace='Fa', value=2)\n",
    "df_train['ExterCond'] = df_train['ExterCond'].replace(to_replace='Po', value=3)\n",
    "df_train['ExterCond'] = df_train['ExterCond'].replace(to_replace='Ex', value=4)\n",
    "df_test['ExterCond'] = df_test['ExterCond'].replace(to_replace='TA', value=0)\n",
    "df_test['ExterCond'] = df_test['ExterCond'].replace(to_replace='Gd', value=1)\n",
    "df_test['ExterCond'] = df_test['ExterCond'].replace(to_replace='Fa', value=2)\n",
    "df_test['ExterCond'] = df_test['ExterCond'].replace(to_replace='Po', value=3)\n",
    "df_test['ExterCond'] = df_test['ExterCond'].replace(to_replace='Ex', value=4)\n",
    "df_train['BsmtQual'] = df_train['BsmtQual'].replace(to_replace='Gd', value=0)\n",
    "df_train['BsmtQual'] = df_train['BsmtQual'].replace(to_replace='TA', value=1)\n",
    "df_train['BsmtQual'] = df_train['BsmtQual'].replace(to_replace='Ex', value=2)\n",
    "df_train['BsmtQual'] = df_train['BsmtQual'].replace(to_replace='Fa', value=3)\n",
    "df_test['BsmtQual'] = df_test['BsmtQual'].replace(to_replace='Gd', value=0)\n",
    "df_test['BsmtQual'] = df_test['BsmtQual'].replace(to_replace='TA', value=1)\n",
    "df_test['BsmtQual'] = df_test['BsmtQual'].replace(to_replace='Ex', value=2)\n",
    "df_test['BsmtQual'] = df_test['BsmtQual'].replace(to_replace='Fa', value=3)\n",
    "df_train['BsmtExposure'] = df_train['BsmtExposure'].replace(to_replace='No', value=0)\n",
    "df_train['BsmtExposure'] = df_train['BsmtExposure'].replace(to_replace='Gd', value=1)\n",
    "df_train['BsmtExposure'] = df_train['BsmtExposure'].replace(to_replace='Mn', value=2)\n",
    "df_train['BsmtExposure'] = df_train['BsmtExposure'].replace(to_replace='Av', value=3)\n",
    "df_test['BsmtExposure'] = df_test['BsmtExposure'].replace(to_replace='No', value=0)\n",
    "df_test['BsmtExposure'] = df_test['BsmtExposure'].replace(to_replace='Gd', value=1)\n",
    "df_test['BsmtExposure'] = df_test['BsmtExposure'].replace(to_replace='Mn', value=2)\n",
    "df_test['BsmtExposure'] = df_test['BsmtExposure'].replace(to_replace='Av', value=3)\n",
    "df_train['CentralAir'] = df_train['CentralAir'].replace(to_replace='Y', value=0)\n",
    "df_train['CentralAir'] = df_train['CentralAir'].replace(to_replace='N', value=1)\n",
    "df_test['CentralAir'] = df_test['CentralAir'].replace(to_replace='Y', value=0)\n",
    "df_test['CentralAir'] = df_test['CentralAir'].replace(to_replace='N', value=1)\n",
    "df_train['KitchenQual'] = df_train['KitchenQual'].replace(to_replace='Gd', value=0)\n",
    "df_train['KitchenQual'] = df_train['KitchenQual'].replace(to_replace='TA', value=1)\n",
    "df_train['KitchenQual'] = df_train['KitchenQual'].replace(to_replace='Ex', value=2)\n",
    "df_train['KitchenQual'] = df_train['KitchenQual'].replace(to_replace='Fa', value=3)\n",
    "df_test['KitchenQual'] = df_test['KitchenQual'].replace(to_replace='Gd', value=0)\n",
    "df_test['KitchenQual'] = df_test['KitchenQual'].replace(to_replace='TA', value=1)\n",
    "df_test['KitchenQual'] = df_test['KitchenQual'].replace(to_replace='Ex', value=2)\n",
    "df_test['KitchenQual'] = df_test['KitchenQual'].replace(to_replace='Fa', value=3)\n",
    "df_train['FireplaceQu'] = df_train['FireplaceQu'].replace(to_replace='Gd', value=0)\n",
    "df_train['FireplaceQu'] = df_train['FireplaceQu'].replace(to_replace='TA', value=1)\n",
    "df_train['FireplaceQu'] = df_train['FireplaceQu'].replace(to_replace='Ex', value=2)\n",
    "df_train['FireplaceQu'] = df_train['FireplaceQu'].replace(to_replace='Fa', value=3)\n",
    "df_train['FireplaceQu'] = df_train['FireplaceQu'].replace(to_replace='Po', value=4)\n",
    "df_test['FireplaceQu'] = df_test['FireplaceQu'].replace(to_replace='Gd', value=0)\n",
    "df_test['FireplaceQu'] = df_test['FireplaceQu'].replace(to_replace='TA', value=1)\n",
    "df_test['FireplaceQu'] = df_test['FireplaceQu'].replace(to_replace='Ex', value=2)\n",
    "df_test['FireplaceQu'] = df_test['FireplaceQu'].replace(to_replace='Fa', value=3)\n",
    "df_test['FireplaceQu'] = df_test['FireplaceQu'].replace(to_replace='Po', value=4)\n",
    "df_train['GarageFinish'] = df_train['GarageFinish'].replace(to_replace='RFn', value=0)\n",
    "df_train['GarageFinish'] = df_train['GarageFinish'].replace(to_replace='Unf', value=1)\n",
    "df_train['GarageFinish'] = df_train['GarageFinish'].replace(to_replace='Fin', value=2)\n",
    "df_test['GarageFinish'] = df_test['GarageFinish'].replace(to_replace='RFn', value=0)\n",
    "df_test['GarageFinish'] = df_test['GarageFinish'].replace(to_replace='Unf', value=1)\n",
    "df_test['GarageFinish'] = df_test['GarageFinish'].replace(to_replace='Fin', value=2)\n",
    "df_train['GarageQual'] = df_train['GarageQual'].replace(to_replace='TA', value=0)\n",
    "df_train['GarageQual'] = df_train['GarageQual'].replace(to_replace='Gd', value=1)\n",
    "df_train['GarageQual'] = df_train['GarageQual'].replace(to_replace='Fa', value=2)\n",
    "df_train['GarageQual'] = df_train['GarageQual'].replace(to_replace='Po', value=3)\n",
    "df_train['GarageQual'] = df_train['GarageQual'].replace(to_replace='Ex', value=4)\n",
    "df_test['GarageQual'] = df_test['GarageQual'].replace(to_replace='TA', value=0)\n",
    "df_test['GarageQual'] = df_test['GarageQual'].replace(to_replace='Gd', value=1)\n",
    "df_test['GarageQual'] = df_test['GarageQual'].replace(to_replace='Fa', value=2)\n",
    "df_test['GarageQual'] = df_test['GarageQual'].replace(to_replace='Po', value=3)\n",
    "df_test['GarageQual'] = df_test['GarageQual'].replace(to_replace='Ex', value=4)\n",
    "df_train['GarageCond'] = df_train['GarageCond'].replace(to_replace='TA', value=0)\n",
    "df_train['GarageCond'] = df_train['GarageCond'].replace(to_replace='Gd', value=1)\n",
    "df_train['GarageCond'] = df_train['GarageCond'].replace(to_replace='Fa', value=2)\n",
    "df_train['GarageCond'] = df_train['GarageCond'].replace(to_replace='Po', value=3)\n",
    "df_train['GarageCond'] = df_train['GarageCond'].replace(to_replace='Ex', value=4)\n",
    "df_test['GarageCond'] = df_test['GarageCond'].replace(to_replace='TA', value=0)\n",
    "df_test['GarageCond'] = df_test['GarageCond'].replace(to_replace='Gd', value=1)\n",
    "df_test['GarageCond'] = df_test['GarageCond'].replace(to_replace='Fa', value=2)\n",
    "df_test['GarageCond'] = df_test['GarageCond'].replace(to_replace='Po', value=3)\n",
    "df_test['GarageCond'] = df_test['GarageCond'].replace(to_replace='Ex', value=4)\n",
    "df_train['PavedDrive'] = df_train['PavedDrive'].replace(to_replace='Y', value=0)\n",
    "df_train['PavedDrive'] = df_train['PavedDrive'].replace(to_replace='N', value=1)\n",
    "df_train['PavedDrive'] = df_train['PavedDrive'].replace(to_replace='P', value=2)\n",
    "df_test['PavedDrive'] = df_test['PavedDrive'].replace(to_replace='Y', value=0)\n",
    "df_test['PavedDrive'] = df_test['PavedDrive'].replace(to_replace='N', value=1)\n",
    "df_test['PavedDrive'] = df_test['PavedDrive'].replace(to_replace='P', value=2)"
   ]
  },
  {
   "cell_type": "code",
   "execution_count": 12,
   "id": "6230ac88-bef5-4502-9331-ac9d9db7087c",
   "metadata": {},
   "outputs": [],
   "source": [
    "df_train = df_train.drop('Neighborhood', axis = 1)\n",
    "df_test = df_test.drop('Neighborhood', axis =1)"
   ]
  },
  {
   "cell_type": "code",
   "execution_count": 13,
   "id": "20a6b40d-beeb-465d-be57-137df46ef7e0",
   "metadata": {},
   "outputs": [],
   "source": [
    "df_train = df_train.drop('Condition1', axis =1)\n",
    "df_test = df_test.drop('Condition1', axis =1)"
   ]
  },
  {
   "cell_type": "code",
   "execution_count": 14,
   "id": "f00d3496-5073-4488-b762-814fab7ff168",
   "metadata": {},
   "outputs": [],
   "source": [
    "df_train = df_train.drop('Condition2', axis =1)\n",
    "df_test = df_test.drop('Condition2', axis =1)"
   ]
  },
  {
   "cell_type": "code",
   "execution_count": 15,
   "id": "0bd358b5-8912-4314-a465-7f0e07f32637",
   "metadata": {},
   "outputs": [],
   "source": [
    "df_train = df_train.drop('HouseStyle', axis =1)\n",
    "df_test = df_test.drop('HouseStyle', axis =1)"
   ]
  },
  {
   "cell_type": "code",
   "execution_count": 16,
   "id": "1a20e6c0-7bd2-4d92-bfb1-f20a273de57d",
   "metadata": {},
   "outputs": [],
   "source": [
    "df_train = df_train.drop('RoofStyle', axis =1)\n",
    "df_test = df_test.drop('RoofStyle', axis =1)"
   ]
  },
  {
   "cell_type": "code",
   "execution_count": 17,
   "id": "d542f24b-f341-4827-8556-20ce793374e8",
   "metadata": {},
   "outputs": [],
   "source": [
    "df_train = df_train.drop('RoofMatl', axis =1)\n",
    "df_test = df_test.drop('RoofMatl', axis =1)"
   ]
  },
  {
   "cell_type": "code",
   "execution_count": 18,
   "id": "c2ab841b-9955-4d85-8c05-5752f46216ce",
   "metadata": {},
   "outputs": [],
   "source": [
    "df_train = df_train.drop('Exterior1st', axis =1)\n",
    "df_test = df_test.drop('Exterior1st', axis =1)"
   ]
  },
  {
   "cell_type": "code",
   "execution_count": 19,
   "id": "ff48d922-8df8-4596-9824-8fdab494be75",
   "metadata": {},
   "outputs": [],
   "source": [
    "df_train = df_train.drop('Exterior2nd', axis =1)\n",
    "df_test = df_test.drop('Exterior2nd', axis =1)"
   ]
  },
  {
   "cell_type": "code",
   "execution_count": 20,
   "id": "c7819b7f-7e4e-4099-aba3-179e6a3e849d",
   "metadata": {},
   "outputs": [],
   "source": [
    "df_train['MasVnrArea'] = df_train['MasVnrArea'].interpolate()\n",
    "df_test['MasVnrArea'] = df_test['MasVnrArea'].interpolate()"
   ]
  },
  {
   "cell_type": "code",
   "execution_count": 21,
   "id": "7460b621-ce3d-4705-80d0-389fa62f7d50",
   "metadata": {},
   "outputs": [],
   "source": [
    "df_train = df_train.drop('Foundation', axis =1)\n",
    "df_test = df_test.drop('Foundation', axis =1)"
   ]
  },
  {
   "cell_type": "code",
   "execution_count": 22,
   "id": "bfeb52cb-69d7-470f-99f8-7a0c5bcc14c3",
   "metadata": {},
   "outputs": [],
   "source": [
    "df_train = df_train.drop('BsmtFinType1', axis =1)\n",
    "df_test = df_test.drop('BsmtFinType1', axis =1)"
   ]
  },
  {
   "cell_type": "code",
   "execution_count": 23,
   "id": "a38a1740-3212-4ef7-8e21-21d9c75d116e",
   "metadata": {},
   "outputs": [],
   "source": [
    "df_train = df_train.drop('BsmtFinType2', axis =1)\n",
    "df_test = df_test.drop('BsmtFinType2', axis =1)"
   ]
  },
  {
   "cell_type": "code",
   "execution_count": 24,
   "id": "f39369d0-5cc7-4c6c-8dae-ed0b6aa2ff60",
   "metadata": {},
   "outputs": [],
   "source": [
    "df_train = df_train.drop('Heating', axis =1)\n",
    "df_test = df_test.drop('Heating', axis =1)"
   ]
  },
  {
   "cell_type": "code",
   "execution_count": 25,
   "id": "f7bf375c-b92d-4c81-9791-ce1cf3dfd039",
   "metadata": {},
   "outputs": [],
   "source": [
    "df_train = df_train.drop('HeatingQC', axis =1)\n",
    "df_test = df_test.drop('HeatingQC', axis =1)"
   ]
  },
  {
   "cell_type": "code",
   "execution_count": 26,
   "id": "c0a349dd-3261-45b3-8cb9-42b6c24a3352",
   "metadata": {},
   "outputs": [],
   "source": [
    "df_train = df_train.drop('Electrical', axis =1)\n",
    "df_test = df_test.drop('Electrical', axis =1)"
   ]
  },
  {
   "cell_type": "code",
   "execution_count": 27,
   "id": "57adc89e-a8bb-4bdb-9a08-deb34a0fc5fc",
   "metadata": {},
   "outputs": [],
   "source": [
    "df_train = df_train.drop('Functional', axis =1)\n",
    "df_test = df_test.drop('Functional', axis =1)"
   ]
  },
  {
   "cell_type": "code",
   "execution_count": 28,
   "id": "5605bfe9-e821-47e8-a2b0-290454269e37",
   "metadata": {},
   "outputs": [],
   "source": [
    "df_train = df_train.drop('GarageType', axis =1)\n",
    "df_test = df_test.drop('GarageType', axis =1)"
   ]
  },
  {
   "cell_type": "code",
   "execution_count": 29,
   "id": "f846e564-694f-4c64-b8ce-397e607fbdbb",
   "metadata": {},
   "outputs": [],
   "source": [
    "df_train['GarageYrBlt'] = df_train['GarageYrBlt'].interpolate()\n",
    "df_test['GarageYrBlt'] = df_test['GarageYrBlt'].interpolate()"
   ]
  },
  {
   "cell_type": "code",
   "execution_count": 30,
   "id": "47300934-b863-4eb2-a3dd-16074c983034",
   "metadata": {},
   "outputs": [],
   "source": [
    "df_train = df_train.drop('SaleType', axis =1)\n",
    "df_test = df_test.drop('SaleType', axis =1)"
   ]
  },
  {
   "cell_type": "code",
   "execution_count": 31,
   "id": "f564adfe-bdbb-4e53-848c-1593ed809aab",
   "metadata": {},
   "outputs": [],
   "source": [
    "df_train = df_train.drop('SaleCondition', axis =1)\n",
    "df_test = df_test.drop('SaleCondition', axis =1)"
   ]
  },
  {
   "cell_type": "code",
   "execution_count": 32,
   "id": "7ed00a0e-6b53-4407-a34e-7e73b4d768a3",
   "metadata": {},
   "outputs": [],
   "source": [
    "df_train.info()"
   ]
  },
  {
   "cell_type": "code",
   "execution_count": 33,
   "id": "1c208a5c-63fe-4f8d-8554-87ba47205765",
   "metadata": {},
   "outputs": [],
   "source": [
    "df_train = df_train.drop('ExterCond', axis=1)\n",
    "df_test = df_test.drop('ExterCond', axis=1)"
   ]
  },
  {
   "cell_type": "code",
   "execution_count": 34,
   "id": "b1f988f0-213d-4016-95bf-1a74c6c1d9e0",
   "metadata": {},
   "outputs": [],
   "source": [
    "df_train.isna().sum()"
   ]
  },
  {
   "cell_type": "code",
   "execution_count": 35,
   "id": "7857cd7c-e847-4414-b387-2d2b2913770e",
   "metadata": {},
   "outputs": [],
   "source": [
    "df_train = df_train.dropna()"
   ]
  },
  {
   "cell_type": "code",
   "execution_count": 36,
   "id": "ad53341d-81b9-4635-bc0f-fbd6944237ea",
   "metadata": {},
   "outputs": [],
   "source": [
    "df_train"
   ]
  },
  {
   "cell_type": "code",
   "execution_count": 37,
   "id": "f9cc81ed-63b4-4f4a-b53f-897539992cdd",
   "metadata": {},
   "outputs": [],
   "source": [
    "df_train"
   ]
  },
  {
   "cell_type": "code",
   "execution_count": 38,
   "id": "3a1779ec-5685-4229-94bf-6e4c7d07044f",
   "metadata": {},
   "outputs": [],
   "source": [
    "df_train.describe()"
   ]
  },
  {
   "cell_type": "code",
   "execution_count": 39,
   "id": "e212667b-5c9c-4c0a-8233-cf469dbc8c38",
   "metadata": {},
   "outputs": [],
   "source": [
    "sns.boxplot(x=df_train['MSSubClass'])"
   ]
  },
  {
   "cell_type": "code",
   "execution_count": 40,
   "id": "9037f862-6f05-4104-aa30-2116cadc8368",
   "metadata": {},
   "outputs": [],
   "source": [
    "sns.boxplot(x=df_train['SalePrice'])"
   ]
  },
  {
   "cell_type": "code",
   "execution_count": 41,
   "id": "83a892c9-240b-43b7-a4e7-0161d7cc36d4",
   "metadata": {},
   "outputs": [],
   "source": [
    "df_train.info()"
   ]
  },
  {
   "cell_type": "code",
   "execution_count": 42,
   "id": "023e6bbb-ae1d-4778-818c-c46f3688bf3d",
   "metadata": {},
   "outputs": [],
   "source": [
    "df_train['BsmtQual'].unique()"
   ]
  },
  {
   "cell_type": "code",
   "execution_count": 43,
   "id": "c1f664e8-8f05-4634-afe0-6f131ad613f2",
   "metadata": {
    "scrolled": true
   },
   "outputs": [],
   "source": [
    "df_train.info()"
   ]
  },
  {
   "cell_type": "code",
   "execution_count": 44,
   "id": "833c9aee-f435-41de-aee6-3d178cafc1c6",
   "metadata": {},
   "outputs": [],
   "source": [
    "df_test['BsmtCond'].unique()"
   ]
  },
  {
   "cell_type": "code",
   "execution_count": 45,
   "id": "84e1b21e-50d9-4092-b5e0-d92b4845a55a",
   "metadata": {},
   "outputs": [],
   "source": [
    "df_train['BsmtCond'] = df_train['BsmtCond'].replace(to_replace='TA', value=0)\n",
    "df_train['BsmtCond'] = df_train['BsmtCond'].replace(to_replace='Gd', value=1)\n",
    "df_train['BsmtCond'] = df_train['BsmtCond'].replace(to_replace='Fa', value=2)\n",
    "df_test['BsmtCond'] = df_test['BsmtCond'].replace(to_replace='TA', value=0)\n",
    "df_test['BsmtCond'] = df_test['BsmtCond'].replace(to_replace='Gd', value=1)\n",
    "df_test['BsmtCond'] = df_test['BsmtCond'].replace(to_replace='Fa', value=2)"
   ]
  },
  {
   "cell_type": "code",
   "execution_count": 46,
   "id": "ffc01ce5-8105-4c08-ba51-2c72cae8d2d3",
   "metadata": {},
   "outputs": [],
   "source": [
    "df_test['BsmtCond'] = df_test['BsmtCond'].replace(to_replace='Po', value=3)"
   ]
  },
  {
   "cell_type": "code",
   "execution_count": 47,
   "id": "f81dc2f1-b257-4dfe-86e8-3085b1bad6b9",
   "metadata": {},
   "outputs": [],
   "source": [
    "df_train"
   ]
  },
  {
   "cell_type": "code",
   "execution_count": 48,
   "id": "006e4bcd-fafb-4c11-b09d-9db2d4c09000",
   "metadata": {},
   "outputs": [],
   "source": [
    "df_test = df_test.dropna()"
   ]
  },
  {
   "cell_type": "code",
   "execution_count": 49,
   "id": "0b681ea0-0b00-485a-b792-76c8ec2530ac",
   "metadata": {},
   "outputs": [],
   "source": [
    "X_train = df_train.drop('SalePrice', axis= 1)\n",
    "y_train = df_train['SalePrice']\n",
    "X_test = df_test"
   ]
  },
  {
   "cell_type": "code",
   "execution_count": 50,
   "id": "b5bfc37f-0b5e-45d0-9ae5-dbc3e1a7f9d8",
   "metadata": {},
   "outputs": [],
   "source": [
    "from sklearn.model_selection import train_test_split"
   ]
  },
  {
   "cell_type": "code",
   "execution_count": 51,
   "id": "4845fe58-47c6-43bd-978b-6d3ca75cac11",
   "metadata": {},
   "outputs": [],
   "source": [
    "X_train, X_test, y_train, y_test = train_test_split(X_train, y_train, test_size=0.3, random_state=42)"
   ]
  },
  {
   "cell_type": "code",
   "execution_count": 52,
   "id": "39e8136e-fe89-4051-ad23-864916e089a7",
   "metadata": {},
   "outputs": [],
   "source": [
    "from sklearn.linear_model import LinearRegression"
   ]
  },
  {
   "cell_type": "code",
   "execution_count": 53,
   "id": "19281816-231d-45e9-97d8-d1ebd7ae71f8",
   "metadata": {},
   "outputs": [],
   "source": [
    "model = LinearRegression()"
   ]
  },
  {
   "cell_type": "code",
   "execution_count": 54,
   "id": "8fa88a3a-1ca2-416e-885c-af3845b397d0",
   "metadata": {},
   "outputs": [],
   "source": [
    "model.fit(X_train, y_train)"
   ]
  },
  {
   "cell_type": "code",
   "execution_count": 55,
   "id": "bd0e3cbe-3b18-42b6-bce9-3a468d16c00a",
   "metadata": {},
   "outputs": [],
   "source": [
    "y_pred = model.predict(X_test)"
   ]
  },
  {
   "cell_type": "code",
   "execution_count": 56,
   "id": "b2a6adec-1cd1-49c0-ad88-660fb3ebe217",
   "metadata": {},
   "outputs": [],
   "source": [
    "data_pred = X_test.copy()"
   ]
  },
  {
   "cell_type": "code",
   "execution_count": 57,
   "id": "0ae83a0b-a429-4b25-880b-f8f007b53b3c",
   "metadata": {},
   "outputs": [],
   "source": [
    "data_pred['SalePrice'] = y_pred"
   ]
  },
  {
   "cell_type": "code",
   "execution_count": 59,
   "id": "4124eb18",
   "metadata": {},
   "outputs": [],
   "source": [
    "sub = pd.read_csv('sample_submission.csv')"
   ]
  },
  {
   "cell_type": "code",
   "execution_count": 61,
   "id": "1b43774b",
   "metadata": {},
   "outputs": [],
   "source": [
    "sub['SalePrice'] = y_pred"
   ]
  },
  {
   "cell_type": "code",
   "execution_count": 62,
   "id": "de3ff710-f6c4-4ed8-b3c9-13b303d9355d",
   "metadata": {},
   "outputs": [],
   "source": [
    "sub.to_csv('Vat.csv', index=False, index_label=False)"
   ]
  },
  {
   "cell_type": "code",
   "execution_count": null,
   "id": "b19ea691",
   "metadata": {},
   "outputs": [],
   "source": []
  }
 ],
 "metadata": {
  "kernelspec": {
   "display_name": "Python 3 (ipykernel)",
   "language": "python",
   "name": "python3"
  },
  "language_info": {
   "codemirror_mode": {
    "name": "ipython",
    "version": 3
   },
   "file_extension": ".py",
   "mimetype": "text/x-python",
   "name": "python",
   "nbconvert_exporter": "python",
   "pygments_lexer": "ipython3",
   "version": "3.10.8"
  }
 },
 "nbformat": 4,
 "nbformat_minor": 5
}
